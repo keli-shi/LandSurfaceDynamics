{
 "cells": [
  {
   "cell_type": "code",
   "execution_count": null,
   "metadata": {
    "notebookRunGroups": {
     "groupValue": "2"
    }
   },
   "outputs": [],
   "source": [
    "import numpy as np\n",
    "import matplotlib.pyplot as plt\n",
    "\n",
    "import torch\n",
    "from torch import nn\n",
    "from torch.nn import functional as F\n",
    "from torch.utils.data import TensorDataset, DataLoader\n",
    "import torchkeras\n",
    "from plotly import graph_objects as go\n",
    "from sklearn.preprocessing import MinMaxScaler\n",
    "\n",
    "from skimage.metrics import structural_similarity as ssim\n",
    "from skimage.metrics import peak_signal_noise_ratio as psnr\n",
    "from skimage.metrics import mean_squared_error as mse\n",
    "from sklearn.metrics import r2_score\n",
    "\n",
    "import matplotlib as mpl\n",
    "from matplotlib import cm\n",
    "\n",
    "# GPU\n",
    "device = torch.device('cuda' if torch.cuda.is_available() else 'cpu')\n",
    "\n",
    "import os\n",
    "os.mkdir('results', exist_ok=True)"
   ]
  },
  {
   "cell_type": "markdown",
   "metadata": {},
   "source": [
    "# 1.读取数据"
   ]
  },
  {
   "cell_type": "code",
   "execution_count": null,
   "metadata": {},
   "outputs": [],
   "source": [
    "data = np.load(r'ningxia-mod13a2_2011-2020.npy')\n",
    "print(data.min(), data.max())\n",
    "(W, H) = data.shape[1], data.shape[2]"
   ]
  },
  {
   "cell_type": "code",
   "execution_count": null,
   "metadata": {},
   "outputs": [],
   "source": [
    "# 预处理\n",
    "x, y, z = np.where(data<-3000)\n",
    "for xx, yy, zz in zip(x, y, z):\n",
    "    data[x,y,z]=-3000\n",
    "\n",
    "print(data.min(), data.max())"
   ]
  },
  {
   "cell_type": "code",
   "execution_count": null,
   "metadata": {},
   "outputs": [],
   "source": [
    "# 可视化\n",
    "plt.imshow(data.mean(axis=0), interpolation='nearest', cmap='RdYlGn_r')\n",
    "plt.colorbar(shrink=.92)"
   ]
  },
  {
   "cell_type": "markdown",
   "metadata": {
    "slideshow": {
     "slide_type": "notes"
    }
   },
   "source": [
    "# 2.POD分解"
   ]
  },
  {
   "cell_type": "code",
   "execution_count": null,
   "metadata": {},
   "outputs": [],
   "source": [
    "def POD_svd(X):\n",
    "    '''\n",
    "    input:\n",
    "        X : m*n matrix with m features and n snapshot after 中心化\n",
    "    return:\n",
    "        k+1 : 累计方差99.5%的特征值个数\n",
    "        u[:, :k+1] ： 对应特征向量 u[:,i]\n",
    "        s[:k+1] ： 对应奇异值列表\n",
    "        vh[:k+1, :] : 时间系数矩阵 vh[i,:]\n",
    "    '''\n",
    "    u, s, vh = np.linalg.svd(X, full_matrices=False)\n",
    "    s1 = s**2 / X.shape[1]\n",
    "    C_per = np.cumsum(s1) / s1.sum()\n",
    "    # 求累计99.5%的下标\n",
    "    k = 0\n",
    "    for i in range(len(C_per)):\n",
    "        if C_per[i] > 0.995:\n",
    "            k = i\n",
    "            print(C_per[i])\n",
    "            break\n",
    "    return k+1, u[:, :k+1], s[:k+1], vh[:k+1, :], C_per"
   ]
  },
  {
   "cell_type": "code",
   "execution_count": null,
   "metadata": {},
   "outputs": [],
   "source": [
    "# 定义预测步长\n",
    "num_predict = 20"
   ]
  },
  {
   "cell_type": "code",
   "execution_count": null,
   "metadata": {},
   "outputs": [],
   "source": [
    "# POD分解\n",
    "XX = data.reshape(data.shape[0], (W*H)).T\n",
    "XX_mean = np.mean(XX, axis=1, keepdims=True)\n",
    "XX = XX - XX_mean\n",
    "print(XX.shape)\n",
    "k, u, s, vh, s_per = POD_svd(XX[:, :-num_predict])\n",
    "A = vh.T\n",
    "k, u.shape, s.shape, A.shape"
   ]
  },
  {
   "cell_type": "code",
   "execution_count": null,
   "metadata": {},
   "outputs": [],
   "source": [
    "# 保存累计方差贡献率图\n",
    "plt.figure(figsize=(10,3))\n",
    "plt.plot(s_per[:k], marker='o', color='darkorange',markersize=10,markerfacecolor='none') \n",
    "plt.grid(True)\n",
    "plt.tick_params(labelsize=20)\n",
    "plt.subplots_adjust(top=1, bottom=0, right=1, left=0, hspace=0, wspace=0)\n",
    "plt.xticks([i*5 for i in range(k // 5)] + [k-1])\n",
    "plt.yticks([s_per[0], s_per[k // 3], s_per[k]])\n",
    "plt.savefig(f'results/result_feature_values_plot.png', dpi=300, bbox_inches='tight')"
   ]
  },
  {
   "cell_type": "code",
   "execution_count": null,
   "metadata": {},
   "outputs": [],
   "source": [
    "# 保存空间模态均值\n",
    "plt.imshow(np.mean(u[:,:], axis=1, keepdims=True).reshape(W,H), cmap='rainbow')\n",
    "plt.axis('off')\n",
    "plt.subplots_adjust(top=1, bottom=0, right=1, left=0, hspace=0, wspace=0)\n",
    "plt.margins(0, 0)\n",
    "cbar = plt.colorbar(shrink=.92, pad=0.05)\n",
    "cbar.outline.set_visible(False)\n",
    "plt.savefig(f'results/result_spatial_mode_avg.png', dpi=300, bbox_inches='tight')"
   ]
  },
  {
   "cell_type": "code",
   "execution_count": null,
   "metadata": {},
   "outputs": [],
   "source": [
    "# 保存前三个空间模态\n",
    "for idx in range(3):\n",
    "    # idx=2\n",
    "    plt.figure()\n",
    "    plt.imshow(u[:,idx].reshape(W,H), cmap='rainbow')\n",
    "    plt.axis('off')\n",
    "    plt.subplots_adjust(top=1, bottom=0, right=1, left=0, hspace=0, wspace=0)\n",
    "    plt.margins(0, 0)\n",
    "    cbar = plt.colorbar(shrink=.92, pad=0.05)\n",
    "    cbar.outline.set_visible(False)\n",
    "    plt.savefig(f'results/result_spatial_mode_{idx}.png', dpi=300, bbox_inches='tight')"
   ]
  },
  {
   "cell_type": "code",
   "execution_count": null,
   "metadata": {},
   "outputs": [],
   "source": [
    "# 可视化前三个空间模态对应的时间系数序列\n",
    "plt.plot(vh[0,:])\n",
    "plt.plot(vh[1,:])\n",
    "plt.plot(vh[2,:])"
   ]
  },
  {
   "cell_type": "markdown",
   "metadata": {
    "tags": []
   },
   "source": [
    "# 3.时间系数预测"
   ]
  },
  {
   "cell_type": "code",
   "execution_count": null,
   "metadata": {},
   "outputs": [],
   "source": [
    "# 参数\n",
    "feature_size = A.shape[1]\n",
    "hidden_size = 256\n",
    "num_layers = 2\n",
    "output_size = feature_size\n",
    "epochs = 500\n",
    "lr = 1e-3\n",
    "time_step = 10"
   ]
  },
  {
   "cell_type": "code",
   "execution_count": null,
   "metadata": {},
   "outputs": [],
   "source": [
    "# 预定义函数\n",
    "# 数据集划分\n",
    "def create_dataset(data:list, time_step: int, num_predict: int):\n",
    "    arr_x, arr_y = [], []\n",
    "    for i in range(len(data) - num_predict - time_step + 1):\n",
    "        x = data[i: i + time_step, :]\n",
    "        y = data[i + time_step + num_predict - 1, :]\n",
    "        # print(i+time_step)\n",
    "        arr_x.append(x)\n",
    "        arr_y.append(y)\n",
    "    return np.array(arr_x), np.array(arr_y)\n",
    "\n",
    "# 定义GRU网络\n",
    "class Net(nn.Module):\n",
    "    def __init__(self, feature_size, hidden_size, num_layers, output_size):\n",
    "        super(Net, self).__init__()\n",
    "        self.hidden_size = hidden_size  # 隐层大小\n",
    "        self.num_layers = num_layers  # gru层数\n",
    "        self.gru = nn.GRU(feature_size, hidden_size, num_layers, batch_first=True)\n",
    "        self.fc = nn.Linear(hidden_size, output_size)\n",
    "\n",
    "    def forward(self, x, hidden=None):\n",
    "        x = x.to(device)\n",
    "        batch_size = x.shape[0] \n",
    "\n",
    "        if hidden is None:\n",
    "            h_0 = x.data.new(self.num_layers, batch_size, self.hidden_size).fill_(0).float().to(device)\n",
    "        else:\n",
    "            h_0 = hidden.to(device)\n",
    "        \n",
    "        output, h_0 = self.gru(x, h_0)\n",
    "        batch_size, timestep, hidden_size = output.shape\n",
    "        output = output.reshape(-1, hidden_size)\n",
    "        output = self.fc(output)  # 形状为batch_size * timestep, 1\n",
    "        output = output.reshape(timestep, batch_size, -1)\n",
    "\n",
    "        return output[-1].unsqueeze(1)\n"
   ]
  },
  {
   "cell_type": "code",
   "execution_count": null,
   "metadata": {},
   "outputs": [],
   "source": [
    "# 数据预览,第一个时间系数序列\n",
    "fig = go.Figure()\n",
    "fig.add_trace(go.Scatter(x=[i for i in range(A.shape[0])], y=A[:,0]))\n",
    "fig.show()"
   ]
  },
  {
   "cell_type": "code",
   "execution_count": null,
   "metadata": {},
   "outputs": [],
   "source": [
    "# 数据处理\n",
    "# 归一化 [0, 1]\n",
    "scaler = MinMaxScaler()\n",
    "predict_field = 'Scaler'\n",
    "df = scaler.fit_transform(A)\n",
    "df.min(), df.max()"
   ]
  },
  {
   "cell_type": "code",
   "execution_count": null,
   "metadata": {},
   "outputs": [],
   "source": [
    "# 划分dataset\n",
    "X, Y = create_dataset(df, time_step, num_predict)\n",
    "\n",
    "# 转化成 tensor->(batch_size, seq_len, feature_size)\n",
    "X = torch.tensor(X, dtype=torch.float).to(device)\n",
    "Y = torch.tensor(Y, dtype=torch.float).unsqueeze(1).to(device)\n",
    "print('Total datasets: ', X.shape, '-->', Y.shape)\n",
    "\n",
    "# 划分数据\n",
    "split_ratio = 0.9\n",
    "len_train = int(X.shape[0] * split_ratio)\n",
    "X_train, Y_train = X[:len_train, :, :], Y[:len_train, :, :]\n",
    "print('Train datasets: ', X_train.shape, '-->', Y_train.shape)\n",
    "X_test, Y_test = X[len_train:, :, :], Y[len_train:, :, :]\n",
    "print('Test datasets: ', X_test.shape, '-->', Y_test.shape)"
   ]
  },
  {
   "cell_type": "code",
   "execution_count": null,
   "metadata": {},
   "outputs": [],
   "source": [
    "# 构建迭代器\n",
    "batch_size = 10\n",
    "ds = TensorDataset(X, Y)\n",
    "dl = DataLoader(ds, batch_size=batch_size, num_workers=0)\n",
    "ds_train = TensorDataset(X_train, Y_train)\n",
    "dl_train = DataLoader(ds_train, batch_size=batch_size, num_workers=0)\n",
    "# 查看第一个batch\n",
    "x, y = next(iter(dl_train))\n",
    "print(x.shape)\n",
    "print(y.shape)\n",
    "\n",
    "batch_size = 10\n",
    "ds_test = TensorDataset(X_test, Y_test)\n",
    "dl_test = DataLoader(ds_test, batch_size=batch_size, num_workers=0)\n",
    "x, y = next(iter(dl_test))\n",
    "print(x.shape)\n",
    "print(y.shape)"
   ]
  },
  {
   "cell_type": "code",
   "execution_count": null,
   "metadata": {},
   "outputs": [],
   "source": [
    "# torchkeras API 训练方式\n",
    "model = torchkeras.Model(Net(feature_size, hidden_size, num_layers, output_size).to(device))\n",
    "model.summary(input_shape=(time_step, feature_size))\n",
    "model.compile(loss_func=F.mse_loss, optimizer=torch.optim.Adam(model.parameters(), lr=lr), device=device)\n",
    "dfhistory = model.fit(epochs=epochs, dl_train=dl_train, log_step_freq=20, dl_val=dl_test)"
   ]
  },
  {
   "cell_type": "code",
   "execution_count": null,
   "metadata": {},
   "outputs": [],
   "source": [
    "# 模型评估\n",
    "fig = go.Figure()\n",
    "fig.add_trace(go.Scatter(x=dfhistory.index, y=dfhistory['loss'], name='loss'))\n",
    "fig.add_trace(go.Scatter(x=dfhistory.index, y=dfhistory['val_loss'], name='val loss'))\n",
    "fig.show()"
   ]
  },
  {
   "cell_type": "code",
   "execution_count": null,
   "metadata": {},
   "outputs": [],
   "source": [
    "# 预测验证预览\n",
    "y_true = Y.cpu().numpy().squeeze()\n",
    "y_pred = model.predict(dl).detach().cpu().numpy().squeeze()\n",
    "\n",
    "fig = go.Figure()\n",
    "fig.add_trace(go.Scatter(y=y_true[:, 0], name='y_true'))\n",
    "fig.add_trace(go.Scatter(y=y_pred[:, 0], name='y_pred'))\n",
    "fig.show()"
   ]
  },
  {
   "cell_type": "code",
   "execution_count": null,
   "metadata": {},
   "outputs": [],
   "source": [
    "# 向后滚动预测时间系数\n",
    "y_pred = []\n",
    "\n",
    "print(df.shape)\n",
    "for i in range(df.shape[0]-time_step-num_predict, df.shape[0] - time_step):\n",
    "    print(i,i+time_step)\n",
    "    x_pred = [[torch.tensor(df[i:i+time_step,:], dtype=torch.float32).unsqueeze(0), torch.tensor(df[-1,:]).unsqueeze(0)]]\n",
    "    print(x_pred[0][0].shape)\n",
    "    output = model.predict(x_pred)\n",
    "    y_pred.append(output.detach().cpu().numpy().squeeze())"
   ]
  },
  {
   "cell_type": "code",
   "execution_count": null,
   "metadata": {},
   "outputs": [],
   "source": [
    "# 反归一化预测结果\n",
    "print(len(y_pred), y_pred[0].shape)\n",
    "A_pred = scaler.inverse_transform(np.array(y_pred))\n",
    "A_pred.shape"
   ]
  },
  {
   "cell_type": "code",
   "execution_count": null,
   "metadata": {},
   "outputs": [],
   "source": [
    "# 可视化前三个时间系数序列的预测结果\n",
    "for i in range(3):\n",
    "    # i = 2\n",
    "    plt.figure(figsize=(15,3))\n",
    "    plt.plot(range(A.shape[0]), A[:,i], marker='o', color='dodgerblue',markersize=8) \n",
    "    plt.plot(range(A.shape[0]-1, A.shape[0]+A_pred.shape[0]), np.concatenate([A[-1:,:], A_pred], axis=0)[:,i], marker='v', color='fuchsia', markersize=10)\n",
    "    plt.grid(True)\n",
    "    plt.tick_params(labelsize=25)\n",
    "    plt.subplots_adjust(top=1, bottom=0, right=1, left=0, hspace=0, wspace=0)\n",
    "    plt.axvline(A.shape[0]-1, color='r', linestyle='--')\n",
    "    plt.savefig(f'results/result_time_coeff_series_pred_{i+1}.png', dpi=300, bbox_inches='tight')"
   ]
  },
  {
   "cell_type": "markdown",
   "metadata": {},
   "source": [
    "# 4.合成未来图像"
   ]
  },
  {
   "cell_type": "code",
   "execution_count": null,
   "metadata": {},
   "outputs": [],
   "source": [
    "data_pred_list = []\n",
    "\n",
    "for i in range(A_pred.shape[0]):\n",
    "\n",
    "    img_pred = np.dot(u*s, A_pred[i])\n",
    "    img_pred = img_pred.reshape(W, H)\n",
    "    \n",
    "    data_pred_list.append(img_pred)\n",
    "\n",
    "data_pred = np.array(data_pred_list)\n",
    "data_pred.shape"
   ]
  },
  {
   "cell_type": "markdown",
   "metadata": {},
   "source": [
    "# 5.结果评价"
   ]
  },
  {
   "cell_type": "code",
   "execution_count": null,
   "metadata": {},
   "outputs": [],
   "source": [
    "data_true = data[-num_predict:, :, :].astype(np.float32)\n",
    "# 反中心化\n",
    "data_pred = data_pred + XX_mean.reshape(W, H)\n",
    "\n",
    "data_min, data_max = min(data_true.min(), data_pred.min()), max(data_true.max(), data_pred.max())\n",
    "print(data_min, data_max)\n",
    "data_true = (data_true - data_min) / (data_max - data_min)\n",
    "data_pred = (data_pred - data_min) / (data_max - data_min)\n",
    "\n",
    "# 计算ssim, psnr, mse\n",
    "ssim_list = []\n",
    "psnr_list = []\n",
    "mse_list = []\n",
    "for i in range(len(data_pred_list)):\n",
    "    img_true, img_pred = data_true[i], data_pred[i]\n",
    "    ssim_list.append(ssim(img_true, img_pred, data_range=1.0))\n",
    "    psnr_list.append(psnr(img_true, img_pred, data_range=1.))\n",
    "    mse_list.append(mse(img_true, img_pred))\n",
    "\n",
    "# 计算平均值\n",
    "avg_ssim = np.mean(ssim_list)\n",
    "avg_psnr = np.mean(psnr_list)\n",
    "avg_mse = np.mean(mse_list)\n",
    "\n",
    "print(f'num_layers: {num_layers}')\n",
    "print(f'time_step: {time_step}')\n",
    "print(f'num_predict: {num_predict}')\n",
    "# 打印结果\n",
    "print(\"Average SSIM: {:.4f}\".format(avg_ssim))\n",
    "print(\"Average PSNR: {:.2f} dB\".format(avg_psnr))\n",
    "print(\"Average MSE: {:.6f}\".format(avg_mse))"
   ]
  },
  {
   "cell_type": "code",
   "execution_count": null,
   "metadata": {},
   "outputs": [],
   "source": [
    "# 保存POD预测结果\n",
    "\n",
    "data_true = data_true * (data_max - data_min) + data_min\n",
    "data_pred = data_pred * (data_max - data_min) + data_min\n",
    "\n",
    "np.save(f'result_array.npy', data_pred)\n",
    "\n",
    "\n",
    "for i in range(len(data_pred_list)):\n",
    "    plt.figure()\n",
    "    plt.imshow(data_true[i], cmap=\"gist_earth_r\")    # Spectral\n",
    "    plt.axis('off')\n",
    "    plt.subplots_adjust(top=1, bottom=0, right=1, left=0, hspace=0, wspace=0)\n",
    "    plt.margins(0, 0)\n",
    "    cbar = plt.colorbar(shrink=.92)\n",
    "    cbar.outline.set_visible(False)\n",
    "    plt.axis('off')\n",
    "    plt.savefig(f'results/result_img_{i+1}_true.png', dpi=300, bbox_inches='tight')\n",
    "    plt.close()\n",
    "\n",
    "\n",
    "    norm = mpl.colors.Normalize(vmin=data_true[i].min(), vmax=data_true[i].max())\n",
    "    plt.figure()\n",
    "    plt.imshow(data_pred[i], cmap=\"gist_earth_r\", norm=norm)    # Spectral\n",
    "    plt.axis('off')\n",
    "    plt.subplots_adjust(top=1, bottom=0, right=1, left=0, hspace=0, wspace=0)\n",
    "    plt.margins(0, 0)\n",
    "    cbar = plt.colorbar(shrink=.92)\n",
    "    cbar.outline.set_visible(False)\n",
    "    plt.axis('off')\n",
    "    plt.savefig(f'results/result_img_{i+1}_pred.png', dpi=300, bbox_inches='tight')\n",
    "    plt.close()"
   ]
  }
 ],
 "metadata": {
  "kernelspec": {
   "display_name": "test",
   "language": "python",
   "name": "python3"
  },
  "language_info": {
   "codemirror_mode": {
    "name": "ipython",
    "version": 3
   },
   "file_extension": ".py",
   "mimetype": "text/x-python",
   "name": "python",
   "nbconvert_exporter": "python",
   "pygments_lexer": "ipython3",
   "version": "3.6.13"
  }
 },
 "nbformat": 4,
 "nbformat_minor": 4
}
