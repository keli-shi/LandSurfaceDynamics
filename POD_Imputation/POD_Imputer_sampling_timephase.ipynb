{
 "cells": [
  {
   "cell_type": "code",
   "execution_count": null,
   "metadata": {
    "notebookRunGroups": {
     "groupValue": "2"
    }
   },
   "outputs": [],
   "source": [
    "import numpy as np\n",
    "import matplotlib.pyplot as plt\n",
    "\n",
    "import torch\n",
    "from torch import nn\n",
    "from torch.nn import functional as F\n",
    "from torch.utils.data import TensorDataset, DataLoader\n",
    "import torchkeras\n",
    "from plotly import graph_objects as go\n",
    "from sklearn.preprocessing import MinMaxScaler\n",
    "\n",
    "from skimage.metrics import structural_similarity as ssim\n",
    "from skimage.metrics import peak_signal_noise_ratio as psnr\n",
    "from skimage.metrics import mean_squared_error as mse\n",
    "from sklearn.metrics import r2_score\n",
    "\n",
    "import matplotlib as mpl\n",
    "from matplotlib import cm\n",
    "from matplotlib.ticker import FormatStrFormatter\n",
    "\n",
    "# GPU\n",
    "device = torch.device('cuda' if torch.cuda.is_available() else 'cpu')"
   ]
  },
  {
   "cell_type": "code",
   "execution_count": null,
   "metadata": {},
   "outputs": [],
   "source": [
    "import os\n",
    "\n",
    "# 文件夹名称列表\n",
    "folders = [\n",
    "    \"result array\",\n",
    "    \"result dataset img\",\n",
    "    \"result feature values plot\",\n",
    "    \"result img 1\",\n",
    "    \"result img 2\",\n",
    "    \"result spatial mode\",\n",
    "    \"result time series\"\n",
    "]\n",
    "\n",
    "# 创建文件夹\n",
    "for folder in folders:\n",
    "    os.makedirs(folder, exist_ok=True)  # exist_ok=True 表示如果文件夹已存在则不报错"
   ]
  },
  {
   "cell_type": "markdown",
   "metadata": {},
   "source": [
    "# 1.读取数据"
   ]
  },
  {
   "cell_type": "code",
   "execution_count": null,
   "metadata": {},
   "outputs": [],
   "source": [
    "W = 128\n",
    "H = 128\n",
    "GROUP = '1'\n",
    "data = np.load(f'XXX.npy')"
   ]
  },
  {
   "cell_type": "code",
   "execution_count": null,
   "metadata": {},
   "outputs": [],
   "source": []
  },
  {
   "cell_type": "code",
   "execution_count": null,
   "metadata": {},
   "outputs": [],
   "source": [
    "plt.imshow(data.mean(axis=0), interpolation='nearest', cmap='RdYlGn_r')\n",
    "plt.colorbar(shrink=.92)"
   ]
  },
  {
   "cell_type": "markdown",
   "metadata": {
    "slideshow": {
     "slide_type": "notes"
    }
   },
   "source": [
    "# 2.POD分解"
   ]
  },
  {
   "cell_type": "code",
   "execution_count": null,
   "metadata": {},
   "outputs": [],
   "source": [
    "def POD_svd(X):\n",
    "    '''\n",
    "    input:\n",
    "        X : m*n matrix with m features and n snapshot after 中心化\n",
    "    return:\n",
    "        k+1 : 累计方差99.5%的特征值个数\n",
    "        u[:, :k+1] ： 对应特征向量 u[:,i]\n",
    "        s[:k+1] ： 对应特征值列表\n",
    "        vh[:k+1, :] : 时间系数矩阵 vh[i,:]\n",
    "    '''\n",
    "    u, s, vh = np.linalg.svd(X, full_matrices=False)\n",
    "    # s = s**2 / X.shape[1]\n",
    "    s1 = s**2 / X.shape[1]\n",
    "    C_per = np.cumsum(s1) / s1.sum()\n",
    "    # 求累计99.5%的下标\n",
    "    k = 0\n",
    "    for i in range(len(C_per)):\n",
    "        if C_per[i] > 0.995:\n",
    "            k = i\n",
    "            print(C_per[i])\n",
    "            break\n",
    "    return k+1, u[:, :k+1], s[:k+1], vh[:k+1, :], C_per"
   ]
  },
  {
   "cell_type": "code",
   "execution_count": null,
   "metadata": {},
   "outputs": [],
   "source": [
    "XX = data.reshape(data.shape[0], (W*H)).T\n",
    "XX_mean = np.mean(XX, axis=1, keepdims=True)\n",
    "XX = XX - XX_mean\n",
    "print(XX.shape)\n",
    "\n",
    "data_train = XX[:, ::2]  # 偶数时间点（t=0,2,4,...）\n",
    "data_test = XX[:, 1::2]  # 奇数时间点（t=1,3,5,...）\n",
    "\n",
    "k, u, s, vh, s_per = POD_svd(data_train)\n",
    "A = vh.T\n",
    "k, u.shape, s.shape, A.shape"
   ]
  },
  {
   "cell_type": "code",
   "execution_count": null,
   "metadata": {},
   "outputs": [],
   "source": [
    "s_per[-1]"
   ]
  },
  {
   "cell_type": "code",
   "execution_count": null,
   "metadata": {},
   "outputs": [],
   "source": [
    "plt.figure(figsize=(10,3))\n",
    "plt.plot(s_per[:k], marker='o', color='darkorange',markersize=6,markerfacecolor='none') # markerfacecolor='none'\n",
    "plt.grid(True)\n",
    "plt.tick_params(labelsize=20)\n",
    "plt.subplots_adjust(top=1, bottom=0, right=1, left=0, hspace=0, wspace=0)\n",
    "plt.xticks([i*50 for i in range(k // 50)] + [k-1])\n",
    "plt.yticks([s_per[0], s_per[k // 3], s_per[k]])\n",
    "plt.savefig(f'result feature values plot/{GROUP}.png', dpi=300, bbox_inches='tight')"
   ]
  },
  {
   "cell_type": "code",
   "execution_count": null,
   "metadata": {},
   "outputs": [],
   "source": []
  },
  {
   "cell_type": "code",
   "execution_count": null,
   "metadata": {},
   "outputs": [],
   "source": []
  },
  {
   "cell_type": "code",
   "execution_count": null,
   "metadata": {},
   "outputs": [],
   "source": []
  },
  {
   "cell_type": "code",
   "execution_count": null,
   "metadata": {},
   "outputs": [],
   "source": [
    "# 保存空间模态均值\n",
    "plt.imshow(np.mean(u[:,:], axis=1, keepdims=True).reshape(W,H), cmap='rainbow')\n",
    "plt.axis('off')\n",
    "plt.subplots_adjust(top=1, bottom=0, right=1, left=0, hspace=0, wspace=0)\n",
    "plt.margins(0, 0)\n",
    "cbar = plt.colorbar(shrink=.92, pad=0.05)\n",
    "cbar.outline.set_visible(False)\n",
    "plt.savefig(f'result spatial mode/{GROUP}_mean.png', dpi=300, bbox_inches='tight')"
   ]
  },
  {
   "cell_type": "code",
   "execution_count": null,
   "metadata": {},
   "outputs": [],
   "source": [
    "# 保存空间模态\n",
    "for idx in range(3):\n",
    "    # idx=2\n",
    "    plt.figure()\n",
    "    plt.imshow(u[:,idx].reshape(W,H), cmap='rainbow')\n",
    "    plt.axis('off')\n",
    "    plt.subplots_adjust(top=1, bottom=0, right=1, left=0, hspace=0, wspace=0)\n",
    "    plt.margins(0, 0)\n",
    "    cbar = plt.colorbar(shrink=.92, pad=0.05)\n",
    "    cbar.outline.set_visible(False)\n",
    "    plt.savefig(f'result spatial mode/{GROUP}_{idx}.png', dpi=300, bbox_inches='tight')"
   ]
  },
  {
   "cell_type": "code",
   "execution_count": null,
   "metadata": {},
   "outputs": [],
   "source": [
    "# 绘制时间模态\n",
    "plt.plot(vh[0,:])\n",
    "plt.plot(vh[1,:])\n",
    "plt.plot(vh[2,:])"
   ]
  },
  {
   "cell_type": "markdown",
   "metadata": {
    "tags": []
   },
   "source": [
    "# 3.时间系数插值"
   ]
  },
  {
   "cell_type": "code",
   "execution_count": null,
   "metadata": {},
   "outputs": [],
   "source": [
    "def temporal_interpolation_only(vh):\n",
    "    \"\"\"\n",
    "    对每个时间序列进行线性插值，仅返回中间插值点（不包含原始点）\n",
    "    :param vh: shape (n_series, t)\n",
    "    :return: shape (n_series, t - 1)\n",
    "    \"\"\"\n",
    "    return (vh[:, :-1] + vh[:, 1:]) / 2\n",
    "\n",
    "print(vh.shape)\n",
    "vh_interp = temporal_interpolation_only(vh)\n",
    "print(vh_interp.shape)"
   ]
  },
  {
   "cell_type": "code",
   "execution_count": null,
   "metadata": {},
   "outputs": [],
   "source": [
    "# 插值结果可视化\n",
    "fig = go.Figure()\n",
    "fig.add_trace(go.Scatter(y=vh[:, 0], name='y_true'))\n",
    "fig.add_trace(go.Scatter(y=[0] + list(vh_interp[:, 0]), name='y_pred'))\n",
    "fig.show()"
   ]
  },
  {
   "cell_type": "markdown",
   "metadata": {},
   "source": [
    "# 4.合成"
   ]
  },
  {
   "cell_type": "code",
   "execution_count": null,
   "metadata": {},
   "outputs": [],
   "source": [
    "A_interp = vh_interp.T\n",
    "data_interp_list = []\n",
    "\n",
    "for i in range(A_interp.shape[0]):\n",
    "    img_interp = np.dot(u*s, A_interp[i])\n",
    "    img_interp = img_interp.reshape(W, H)\n",
    "    \n",
    "    data_interp_list.append(img_interp)\n",
    "\n",
    "data_interp = np.array(data_interp_list)\n",
    "print(data_interp.min(), data_interp.max())\n",
    "print(data_interp.shape)"
   ]
  },
  {
   "cell_type": "markdown",
   "metadata": {},
   "source": [
    "# 评价"
   ]
  },
  {
   "cell_type": "code",
   "execution_count": null,
   "metadata": {},
   "outputs": [],
   "source": [
    "data_true = data[1::2].astype(np.float32)\n",
    "# 反中心化\n",
    "data_pred = data_interp + XX_mean.reshape(W, H)\n",
    "print(data_true.min(), data_true.max())\n",
    "print(data_pred.min(), data_pred.max())\n",
    "data_min, data_max = min(data_true.min(), data_pred.min()), max(data_true.max(), data_pred.max())\n",
    "print(data_min, data_max)\n",
    "data_true = (data_true - data_min) / (data_max - data_min)\n",
    "data_pred = (data_pred - data_min) / (data_max - data_min)\n",
    "\n",
    "# 计算ssim, psnr, mse\n",
    "ssim_list = []\n",
    "psnr_list = []\n",
    "mse_list = []\n",
    "for i in range(len(data_interp_list)):\n",
    "    img_true, img_pred = data_true[i], data_pred[i]\n",
    "    print(img_true.shape, img_pred.shape)\n",
    "    print(img_true.min(), img_true.max())\n",
    "    print(img_pred.min(), img_pred.max())\n",
    "    ssim_list.append(ssim(img_true, img_pred, data_range=1.0))\n",
    "    psnr_list.append(psnr(img_true, img_pred, data_range=1.))\n",
    "    mse_list.append(mse(img_true, img_pred))\n",
    "    print(i, ssim_list[-1], psnr_list[-1], mse_list[-1])\n",
    "    print()\n",
    "\n",
    "# 计算平均值\n",
    "avg_ssim = np.mean(ssim_list)\n",
    "avg_psnr = np.mean(psnr_list)\n",
    "avg_mse = np.mean(mse_list)\n",
    "\n",
    "# 打印结果\n",
    "print(\"Average SSIM: {:.4f}\".format(avg_ssim))\n",
    "print(\"Average PSNR: {:.2f} dB\".format(avg_psnr))\n",
    "print(\"Average MSE: {:.6f}\".format(avg_mse))\n",
    "print(f'k:{k}')"
   ]
  },
  {
   "cell_type": "code",
   "execution_count": null,
   "metadata": {},
   "outputs": [],
   "source": [
    "data_true.shape, data_pred.shape"
   ]
  },
  {
   "cell_type": "code",
   "execution_count": null,
   "metadata": {},
   "outputs": [],
   "source": [
    "plt.imshow(data_true[0], cmap='gist_earth_r')\n",
    "plt.colorbar()"
   ]
  },
  {
   "cell_type": "code",
   "execution_count": null,
   "metadata": {},
   "outputs": [],
   "source": [
    "# 保存图片\n",
    "cmap_name = 'gist_earth_r'\n",
    "\n",
    "\n",
    "data_true = data_true * (data_max - data_min) + data_min\n",
    "data_pred = data_pred * (data_max - data_min) + data_min\n",
    "print(data_true.min(), data_true.max())\n",
    "print(data_pred.min(), data_pred.max())\n",
    "\n",
    "np.save(f'result array/{GROUP}.npy', data_pred)\n",
    "\n",
    "\n",
    "os.makedirs(f'result img/{GROUP}', exist_ok=True)\n",
    "\n",
    "for i in range(len(data_interp_list)):\n",
    "    print(i, data_true[i].shape, data_pred[i].shape)\n",
    "    print(i, data_pred[i].min(), data_pred[i].max())\n",
    "    \n",
    "    plt.figure()\n",
    "    plt.imshow(data_true[i], cmap=cmap_name)    # Spectral\n",
    "    plt.axis('off')\n",
    "    plt.subplots_adjust(top=1, bottom=0, right=1, left=0, hspace=0, wspace=0)\n",
    "    plt.margins(0, 0)\n",
    "    cbar = plt.colorbar(shrink=.92)\n",
    "    cbar.outline.set_visible(False)\n",
    "    plt.axis('off')\n",
    "    plt.savefig(f'result img/{GROUP}/{i+1}_true.png', dpi=300, bbox_inches='tight')\n",
    "    plt.close()\n",
    "\n",
    "\n",
    "    norm = mpl.colors.Normalize(vmin=data_true[i].min(), vmax=data_true[i].max())\n",
    "    plt.figure()\n",
    "    plt.imshow(data_pred[i], cmap=cmap_name, norm=norm)    # Spectral\n",
    "    plt.axis('off')\n",
    "    plt.subplots_adjust(top=1, bottom=0, right=1, left=0, hspace=0, wspace=0)\n",
    "    plt.margins(0, 0)\n",
    "    cbar = plt.colorbar(shrink=.92)\n",
    "    cbar.outline.set_visible(False)\n",
    "    plt.axis('off')\n",
    "    plt.savefig(f'result img/{GROUP}/{i+1}_pred.png', dpi=300, bbox_inches='tight')\n",
    "    plt.close()"
   ]
  },
  {
   "cell_type": "code",
   "execution_count": null,
   "metadata": {},
   "outputs": [],
   "source": []
  }
 ],
 "metadata": {
  "kernelspec": {
   "display_name": "test",
   "language": "python",
   "name": "python3"
  },
  "language_info": {
   "codemirror_mode": {
    "name": "ipython",
    "version": 3
   },
   "file_extension": ".py",
   "mimetype": "text/x-python",
   "name": "python",
   "nbconvert_exporter": "python",
   "pygments_lexer": "ipython3",
   "version": "3.6.13"
  }
 },
 "nbformat": 4,
 "nbformat_minor": 4
}
