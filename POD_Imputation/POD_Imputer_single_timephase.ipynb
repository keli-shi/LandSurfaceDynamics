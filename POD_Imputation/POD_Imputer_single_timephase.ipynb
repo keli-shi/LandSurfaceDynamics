{
 "cells": [
  {
   "cell_type": "code",
   "execution_count": null,
   "metadata": {
    "notebookRunGroups": {
     "groupValue": "2"
    }
   },
   "outputs": [],
   "source": [
    "import numpy as np\n",
    "import matplotlib.pyplot as plt\n",
    "\n",
    "import torch\n",
    "from torch import nn\n",
    "from torch.nn import functional as F\n",
    "from torch.utils.data import TensorDataset, DataLoader\n",
    "import torchkeras\n",
    "from plotly import graph_objects as go\n",
    "from sklearn.preprocessing import MinMaxScaler\n",
    "\n",
    "from skimage.metrics import structural_similarity as ssim\n",
    "from skimage.metrics import peak_signal_noise_ratio as psnr\n",
    "from skimage.metrics import mean_squared_error as mse\n",
    "from sklearn.metrics import r2_score\n",
    "\n",
    "import matplotlib as mpl\n",
    "from matplotlib import cm\n",
    "\n",
    "# GPU\n",
    "device = torch.device('cuda' if torch.cuda.is_available() else 'cpu')"
   ]
  },
  {
   "cell_type": "markdown",
   "metadata": {},
   "source": [
    "# 1.读取数据"
   ]
  },
  {
   "cell_type": "code",
   "execution_count": null,
   "metadata": {},
   "outputs": [],
   "source": [
    "data = np.load(r'../POD_Predictor/ningxia-mod13a2_2011-2020.npy')\n",
    "print(data.min(), data.max())\n",
    "(W, H) = data.shape[1], data.shape[2]"
   ]
  },
  {
   "cell_type": "code",
   "execution_count": null,
   "metadata": {},
   "outputs": [],
   "source": [
    "# 预处理\n",
    "x, y, z = np.where(data<-3000)\n",
    "for xx, yy, zz in zip(x, y, z):\n",
    "    data[x,y,z]=-3000\n",
    "\n",
    "print(data.min(), data.max())"
   ]
  },
  {
   "cell_type": "code",
   "execution_count": null,
   "metadata": {},
   "outputs": [],
   "source": [
    "# 可视化\n",
    "plt.imshow(data.mean(axis=0), interpolation='nearest', cmap='RdYlGn_r')\n",
    "plt.colorbar(shrink=.92)"
   ]
  },
  {
   "cell_type": "markdown",
   "metadata": {
    "slideshow": {
     "slide_type": "notes"
    }
   },
   "source": [
    "# 2.POD分解"
   ]
  },
  {
   "cell_type": "code",
   "execution_count": null,
   "metadata": {},
   "outputs": [],
   "source": [
    "def POD_svd(X):\n",
    "    '''\n",
    "    input:\n",
    "        X : m*n matrix with m features and n snapshot after 中心化\n",
    "    return:\n",
    "        k+1 : 累计方差99.5%的特征值个数\n",
    "        u[:, :k+1] ： 对应特征向量 u[:,i]\n",
    "        s[:k+1] ： 对应奇异值列表\n",
    "        vh[:k+1, :] : 时间系数矩阵 vh[i,:]\n",
    "    '''\n",
    "    u, s, vh = np.linalg.svd(X, full_matrices=False)\n",
    "    s1 = s**2 / X.shape[1]\n",
    "    C_per = np.cumsum(s1) / s1.sum()\n",
    "    # 求累计99.5%的下标\n",
    "    k = 0\n",
    "    for i in range(len(C_per)):\n",
    "        if C_per[i] > 0.995:\n",
    "            k = i\n",
    "            print(C_per[i])\n",
    "            break\n",
    "    return k+1, u[:, :k+1], s[:k+1], vh[:k+1, :], C_per"
   ]
  },
  {
   "cell_type": "code",
   "execution_count": null,
   "metadata": {},
   "outputs": [],
   "source": [
    "# 定义预测步长\n",
    "num_predict = 20"
   ]
  },
  {
   "cell_type": "code",
   "execution_count": null,
   "metadata": {},
   "outputs": [],
   "source": [
    "# POD分解\n",
    "XX = data.reshape(data.shape[0], (W*H)).T\n",
    "XX_mean = np.mean(XX, axis=1, keepdims=True)\n",
    "XX = XX - XX_mean\n",
    "print(XX.shape)\n",
    "k, u, s, vh, s_per = POD_svd(XX[:, :-num_predict])\n",
    "A = vh.T\n",
    "k, u.shape, s.shape, A.shape"
   ]
  },
  {
   "cell_type": "code",
   "execution_count": null,
   "metadata": {},
   "outputs": [],
   "source": [
    "# 保存累计方差贡献率图\n",
    "plt.figure(figsize=(10,3))\n",
    "plt.plot(s_per[:k], marker='o', color='darkorange',markersize=10,markerfacecolor='none') \n",
    "plt.grid(True)\n",
    "plt.tick_params(labelsize=20)\n",
    "plt.subplots_adjust(top=1, bottom=0, right=1, left=0, hspace=0, wspace=0)\n",
    "plt.xticks([i*5 for i in range(k // 5)] + [k-1])\n",
    "plt.yticks([s_per[0], s_per[k // 3], s_per[k]])\n",
    "plt.savefig(f'results/result_feature_values_plot.png', dpi=300, bbox_inches='tight')"
   ]
  },
  {
   "cell_type": "code",
   "execution_count": null,
   "metadata": {},
   "outputs": [],
   "source": [
    "# 保存空间模态均值\n",
    "plt.imshow(np.mean(u[:,:], axis=1, keepdims=True).reshape(W,H), cmap='rainbow')\n",
    "plt.axis('off')\n",
    "plt.subplots_adjust(top=1, bottom=0, right=1, left=0, hspace=0, wspace=0)\n",
    "plt.margins(0, 0)\n",
    "cbar = plt.colorbar(shrink=.92, pad=0.05)\n",
    "cbar.outline.set_visible(False)\n",
    "plt.savefig(f'results/result_spatial_mode_avg.png', dpi=300, bbox_inches='tight')"
   ]
  },
  {
   "cell_type": "code",
   "execution_count": null,
   "metadata": {},
   "outputs": [],
   "source": [
    "# 保存前三个空间模态\n",
    "for idx in range(3):\n",
    "    # idx=2\n",
    "    plt.figure()\n",
    "    plt.imshow(u[:,idx].reshape(W,H), cmap='rainbow')\n",
    "    plt.axis('off')\n",
    "    plt.subplots_adjust(top=1, bottom=0, right=1, left=0, hspace=0, wspace=0)\n",
    "    plt.margins(0, 0)\n",
    "    cbar = plt.colorbar(shrink=.92, pad=0.05)\n",
    "    cbar.outline.set_visible(False)\n",
    "    plt.savefig(f'results/result_spatial_mode_{idx}.png', dpi=300, bbox_inches='tight')"
   ]
  },
  {
   "cell_type": "code",
   "execution_count": null,
   "metadata": {},
   "outputs": [],
   "source": [
    "# 可视化前三个空间模态对应的时间系数序列\n",
    "plt.plot(vh[0,:])\n",
    "plt.plot(vh[1,:])\n",
    "plt.plot(vh[2,:])"
   ]
  },
  {
   "cell_type": "markdown",
   "metadata": {
    "tags": []
   },
   "source": [
    "# 3.时间系数预插值（线性插值）"
   ]
  },
  {
   "cell_type": "code",
   "execution_count": null,
   "metadata": {},
   "outputs": [],
   "source": [
    "# 参数\n",
    "time_step = 10  # 插值位置 [0,n-2]\n",
    "time_delta = 0.5    # 插值间隔 (0,1)\n",
    "\n",
    "# 插值\n",
    "print(A.shape)\n",
    "A_interpolation = np.array([A[time_step, i] * time_delta + A[time_step+1, i] * (1-time_delta) for i in range(A.shape[1])])\n",
    "A_interpolation = A_interpolation.reshape(1, A_interpolation.shape[0])\n",
    "print(A_interpolation.shape)"
   ]
  },
  {
   "cell_type": "markdown",
   "metadata": {},
   "source": [
    "# 4.合成未来图像"
   ]
  },
  {
   "cell_type": "code",
   "execution_count": null,
   "metadata": {},
   "outputs": [],
   "source": [
    "data_interpolation_list = []\n",
    "\n",
    "for i in range(A_interpolation.shape[0]):\n",
    "\n",
    "    img_interpolation = np.dot(u*s, A_interpolation[i])\n",
    "    img_interpolation = img_interpolation.reshape(W, H)\n",
    "    \n",
    "    data_interpolation_list.append(img_interpolation)\n",
    "\n",
    "data_interpolation = np.array(data_interpolation_list)\n",
    "data_interpolation.shape"
   ]
  },
  {
   "cell_type": "markdown",
   "metadata": {},
   "source": [
    "# 5.保存结果"
   ]
  },
  {
   "cell_type": "code",
   "execution_count": null,
   "metadata": {},
   "outputs": [],
   "source": [
    "# 保存POD插值结果\n",
    "\n",
    "np.save(f'result_array.npy', data_interpolation)\n",
    "for i in range(len(data_interpolation_list)):\n",
    "    plt.figure()\n",
    "    plt.imshow(data_interpolation[i], cmap=\"gist_earth_r\")    # Spectral\n",
    "    plt.axis('off')\n",
    "    plt.subplots_adjust(top=1, bottom=0, right=1, left=0, hspace=0, wspace=0)\n",
    "    plt.margins(0, 0)\n",
    "    cbar = plt.colorbar(shrink=.92)\n",
    "    cbar.outline.set_visible(False)\n",
    "    plt.axis('off')\n",
    "    plt.savefig(f'results/result_img_{i+1}_true.png', dpi=300, bbox_inches='tight')\n",
    "    plt.close()"
   ]
  },
  {
   "cell_type": "code",
   "execution_count": null,
   "metadata": {},
   "outputs": [],
   "source": []
  }
 ],
 "metadata": {
  "kernelspec": {
   "display_name": "test",
   "language": "python",
   "name": "python3"
  },
  "language_info": {
   "codemirror_mode": {
    "name": "ipython",
    "version": 3
   },
   "file_extension": ".py",
   "mimetype": "text/x-python",
   "name": "python",
   "nbconvert_exporter": "python",
   "pygments_lexer": "ipython3",
   "version": "3.6.13"
  }
 },
 "nbformat": 4,
 "nbformat_minor": 4
}
